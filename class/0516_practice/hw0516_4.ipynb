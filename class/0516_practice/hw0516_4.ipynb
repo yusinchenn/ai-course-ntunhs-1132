{
  "cells": [
    {
      "cell_type": "code",
      "execution_count": 2,
      "metadata": {
        "colab": {
          "base_uri": "https://localhost:8080/"
        },
        "id": "iGLQlR2T4Fy_",
        "outputId": "e923e2ff-7d91-4da8-b01b-038123050c10"
      },
      "outputs": [
        {
          "output_type": "stream",
          "name": "stdout",
          "text": [
            "使用裝置：cuda\n"
          ]
        }
      ],
      "source": [
        "from transformers import AutoTokenizer, AutoModelForCausalLM\n",
        "import torch\n",
        "\n",
        "#https://huggingface.co/ckiplab/gpt2-base-chinese\n",
        "model_name = \"ckiplab/gpt2-base-chinese\"\n",
        "\n",
        "# 檢查是否有 GPU 可以用（如果有會快很多）\n",
        "device = torch.device(\"cuda\" if torch.cuda.is_available() else \"cpu\")\n",
        "print(f\"使用裝置：{device}\")"
      ]
    },
    {
      "cell_type": "code",
      "execution_count": 8,
      "metadata": {
        "id": "ZB6ulr8JZey_"
      },
      "outputs": [],
      "source": [
        "# 載入指定的語言模型與 tokenizer\n",
        "# model_name 是你指定的模型名稱，例如 \"ckiplab/gpt2-base-chinese\"\n",
        "tokenizer = AutoTokenizer.from_pretrained(model_name)  # 用於將文字轉換為模型輸入的 token\n",
        "model = AutoModelForCausalLM.from_pretrained(model_name).to(device)  # 載入因果語言模型並指定裝置（例如 CPU 或 GPU）\n",
        "\n",
        "# 定義一個函式，用來根據提示詞（prompt）與選擇的風格生成文字\n",
        "def generate_text(prompt, style=\"default\", max_new_tokens=150, temperature=0.9, top_k=50, top_p=0.95):\n",
        "    # 定義可選的風格標籤字典，對應不同的語氣或文體\n",
        "    style_labels = {\n",
        "        \"default\": \"一般\",\n",
        "        \"fairy_tale\": \"童話\",\n",
        "        \"ancient_chinese\": \"古文\",\n",
        "        \"child_style\": \"兒童\",\n",
        "        \"mystery\": \"懸疑\",\n",
        "        \"sci_fi\": \"科幻\",\n",
        "        \"wuxia\": \"武俠\",\n",
        "        \"diary\": \"日記\",\n",
        "        \"news\": \"新聞\",\n",
        "        \"poetic\": \"詩詞\"\n",
        "    }\n",
        "\n",
        "    # 根據 style 參數取得對應的中文風格標籤，若未指定則預設為「一般」\n",
        "    style_tag = style_labels.get(style, \"一般\")\n",
        "\n",
        "    # 將風格標籤加入提示詞中，以引導模型產生指定風格的內容\n",
        "    styled_prompt = f\"[風格: {style_tag}]\\n{prompt}\"\n",
        "\n",
        "    # 將 styled_prompt 編碼成模型可接受的 token ID，並轉成 tensor\n",
        "    input_ids = tokenizer.encode(styled_prompt, return_tensors=\"pt\").to(device)\n",
        "\n",
        "    # 建立 attention mask，避免模型注意到 padding 的位置（這裡預設沒有 padding，但為保險起見仍處理）\n",
        "    attention_mask = (input_ids != tokenizer.pad_token_id).long()\n",
        "\n",
        "    # 使用模型產生文字\n",
        "    output_ids = model.generate(\n",
        "        input_ids,                      # 輸入的 token\n",
        "        attention_mask=attention_mask, # 注意力遮罩，讓模型知道哪些位置是有效輸入\n",
        "        max_new_tokens=max_new_tokens, # 生成的最大 token 數量\n",
        "        temperature=temperature,       # 溫度值控制隨機性，越高越多樣化\n",
        "        top_k=top_k,                   # top-k 篩選（僅在前 k 個最可能的詞中選擇）\n",
        "        top_p=top_p,                   # top-p (nucleus sampling)，保留機率總和為 p 的詞集合中選擇\n",
        "        do_sample=True,                # 啟用隨機取樣（非貪婪解碼）\n",
        "        pad_token_id=tokenizer.pad_token_id\n",
        "    )\n",
        "\n",
        "    # 解碼模型輸出的 token ID，轉回可讀文字，並移除多餘空白\n",
        "    output_text = tokenizer.decode(output_ids[0], skip_special_tokens=True).replace(\" \", \"\")\n",
        "    return output_text  # 回傳最終生成的文字"
      ]
    },
    {
      "cell_type": "code",
      "execution_count": 9,
      "metadata": {
        "colab": {
          "base_uri": "https://localhost:8080/"
        },
        "id": "8f775c15",
        "outputId": "581e400e-a661-4232-b49c-917f2a7e4aa4"
      },
      "outputs": [
        {
          "output_type": "stream",
          "name": "stdout",
          "text": [
            "輸入提示： 故事開始於一個神秘的森林，小狐狸出現在月光下。\n",
            "風格： fairy_tale\n",
            "產生的故事： [風格:童話]故事開始於一個神秘的森林，小狐狸出現在月光下。於森林裡面存在著一個叫的神祕女子，就在那裡，由於她的存在，因此她們就一直留在森林裡，但這個神祕女子就在那裡，她們的存在便已經破滅。他們在森林裡的小狐狸便逐漸接近於森林的下方，並且沒有足夠的野生動物。在這個時候，森林裡被看上去是獨木舟，一直到她們的存在才一直存在，這個時期裡，當她們的存在便已經被破壞\n"
          ]
        }
      ],
      "source": [
        "prompt_text = \"故事開始於一個神秘的森林，小狐狸出現在月光下。\"\n",
        "style = \"fairy_tale\"\n",
        "# 呼叫前面定義的 generate_text 函式，傳入提示文字與風格，產生對應風格的續寫文字\n",
        "result = generate_text(prompt_text, style=style)\n",
        "print(\"輸入提示：\", prompt_text)\n",
        "print(\"風格：\", style)\n",
        "print(\"產生的故事：\", result)"
      ]
    },
    {
      "cell_type": "code",
      "source": [
        "prompt_text = \"故事開始於一個神秘的森林，小狐狸出現在月光下。\"\n",
        "style = \"sci_fi\"\n",
        "\n",
        "result = generate_text(prompt_text, style=style)\n",
        "print(\"輸入提示：\", prompt_text)\n",
        "print(\"風格：\", style)\n",
        "print(\"產生的故事：\", result)"
      ],
      "metadata": {
        "colab": {
          "base_uri": "https://localhost:8080/"
        },
        "id": "McBSBbQLrwej",
        "outputId": "a3dfcd44-f3a7-4b43-974a-4fec2ae8aa2b"
      },
      "execution_count": 10,
      "outputs": [
        {
          "output_type": "stream",
          "name": "stdout",
          "text": [
            "輸入提示： 故事開始於一個神秘的森林，小狐狸出現在月光下。\n",
            "風格： sci_fi\n",
            "產生的故事： [風格:科幻]故事開始於一個神秘的森林，小狐狸出現在月光下。然牠們因為受到傷害，但小狐狸一直在地下工作，在黑暗中生存，最後只剩下一個種族。這個階段是發生在阿靈頓的天王之前。牠們是一個神祕的星團，由一個不相信的人發射，成為它們的一部分。牠們的祖先是在古代到底是神祕的，所以它們在後來被稱為小狐狸。然而在這些天王之前，有些人認為它們是一個小狐狸。在這個階段之前，小\n"
          ]
        }
      ]
    },
    {
      "cell_type": "code",
      "source": [
        "prompt_text = \"故事開始於一個神秘的森林，小狐狸出現在月光下。\"\n",
        "style = \"news\"\n",
        "\n",
        "result = generate_text(prompt_text, style=style)\n",
        "print(\"輸入提示：\", prompt_text)\n",
        "print(\"風格：\", style)\n",
        "print(\"產生的故事：\", result)"
      ],
      "metadata": {
        "colab": {
          "base_uri": "https://localhost:8080/"
        },
        "id": "JqzjzK_D2mCS",
        "outputId": "34a28ead-136a-4837-9c90-608502552071"
      },
      "execution_count": 11,
      "outputs": [
        {
          "output_type": "stream",
          "name": "stdout",
          "text": [
            "輸入提示： 故事開始於一個神秘的森林，小狐狸出現在月光下。\n",
            "風格： news\n",
            "產生的故事： [風格:新聞]故事開始於一個神秘的森林，小狐狸出現在月光下。種情況非常特別，有時候會變得非常敏感。當森林被大量吸收時，大家應該利用一些更好的表情去對待，一邊為人類提供一些特殊的生物。然而，大多數人還是不會有能力去提高森林的溫度。不過，對於某些細菌學家而言，這些細菌會帶來更多的副作用。大量的細菌會引起細菌的自然刺激，但這些細菌可以促使它們產生抗體，這是一種有效\n"
          ]
        }
      ]
    },
    {
      "cell_type": "code",
      "source": [
        "prompt_text = \"故事開始於一個神秘的森林，小狐狸出現在月光下。\"\n",
        "style = \"wuxia\"\n",
        "\n",
        "result = generate_text(prompt_text, style=style)\n",
        "print(\"輸入提示：\", prompt_text)\n",
        "print(\"風格：\", style)\n",
        "print(\"產生的故事：\", result)"
      ],
      "metadata": {
        "colab": {
          "base_uri": "https://localhost:8080/"
        },
        "id": "lFr49vO74D8m",
        "outputId": "ca9d74a9-0dbd-466c-e321-cc9bff510163"
      },
      "execution_count": 13,
      "outputs": [
        {
          "output_type": "stream",
          "name": "stdout",
          "text": [
            "輸入提示： 故事開始於一個神秘的森林，小狐狸出現在月光下。\n",
            "風格： wuxia\n",
            "產生的故事： [風格:武俠]故事開始於一個神秘的森林，小狐狸出現在月光下。事中，小狐狸在美國的漫畫部門工作；而在一次世界大戰中，他與另一名年輕的阿爾弗雷德·霍納德以及一名朋友於德國的一個小村落的居住。由於當地的人民生活環境，他也會為人服務。當地的小狐狸被歸類於風格：中村（），原本稱為中村（），後改名為中村。自古以來，中村有個小村，但後來在東京帝國大學的天文學家伊藤博\n"
          ]
        }
      ]
    }
  ],
  "metadata": {
    "colab": {
      "provenance": [],
      "gpuType": "T4"
    },
    "kernelspec": {
      "display_name": "Python 3",
      "name": "python3"
    },
    "language_info": {
      "name": "python"
    },
    "accelerator": "GPU"
  },
  "nbformat": 4,
  "nbformat_minor": 0
}
